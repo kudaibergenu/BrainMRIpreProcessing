{
 "cells": [
  {
   "cell_type": "code",
   "execution_count": null,
   "metadata": {},
   "outputs": [],
   "source": [
    "import SimpleITK as sitk\n",
    "\n",
    "import numpy as np\n",
    "import os\n",
    "from ipywidgets import interact, fixed\n",
    "\n",
    "%matplotlib inline\n",
    "import matplotlib.pyplot as plt\n",
    "\n",
    "\n",
    "OUTPUT_DIR = 'output'\n",
    "\n",
    "image_viewer = sitk.ImageViewer()"
   ]
  },
  {
   "cell_type": "markdown",
   "metadata": {},
   "source": [
    "# Read DICOM SERIES"
   ]
  },
  {
   "cell_type": "code",
   "execution_count": null,
   "metadata": {
    "scrolled": false
   },
   "outputs": [],
   "source": [
    "data_directory = os.path.dirname(\"123/readme.txt\")\n",
    "# Global variable 'selected_series' is updated by the interact function\n",
    "selected_series = ''\n",
    "file_reader = sitk.ImageFileReader()\n",
    "def DICOM_series_dropdown_callback(series_to_load, series_dictionary):\n",
    "    global selected_series\n",
    "               # Print some information about the series from the meta-data dictionary\n",
    "               # DICOM standard part 6, Data Dictionary: http://medical.nema.org/medical/dicom/current/output/pdf/part06.pdf\n",
    "    file_reader.SetFileName(series_dictionary[series_to_load][0])\n",
    "    file_reader.ReadImageInformation()\n",
    "    tags_to_print = {'0010|0010': 'Patient name: ', \n",
    "                     '0008|103e': 'Sequence: '}\n",
    "    \n",
    "    print('Series_ID: ' + series_to_load)\n",
    "    for tag in tags_to_print:\n",
    "        try:\n",
    "            print(tags_to_print[tag] + file_reader.GetMetaData(tag))\n",
    "        except: # Ignore if the tag isn't in the dictionary\n",
    "            pass\n",
    "    selected_series = series_to_load                    \n",
    "\n",
    "# Directory contains multiple DICOM studies/series, store\n",
    "# in dictionary with key being the series ID\n",
    "series_file_names = {}\n",
    "series_IDs = sitk.ImageSeriesReader_GetGDCMSeriesIDs(data_directory)\n",
    "            # Check that we have at least one series\n",
    "\n",
    "\n",
    "if series_IDs:\n",
    "    for series in series_IDs:\n",
    "        series_file_names[series] = sitk.ImageSeriesReader_GetGDCMSeriesFileNames(data_directory, series)\n",
    "    interact(DICOM_series_dropdown_callback, series_to_load=list(series_IDs), series_dictionary=fixed(series_file_names)); \n",
    "else:\n",
    "    print('Data directory does not contain any DICOM series.')"
   ]
  },
  {
   "cell_type": "code",
   "execution_count": null,
   "metadata": {},
   "outputs": [],
   "source": [
    "data_directory = os.path.dirname(\"123/readme.txt\")\n",
    "file_reader = sitk.ImageFileReader()\n",
    "\n",
    "series_file_names = {}\n",
    "series_IDs = sitk.ImageSeriesReader_GetGDCMSeriesIDs(data_directory)\n",
    "\n",
    "\n",
    "if series_IDs:\n",
    "    for series in series_IDs:\n",
    "        series_file_names[series] = sitk.ImageSeriesReader_GetGDCMSeriesFileNames(data_directory, series)\n",
    "        \n",
    "        file_reader.SetFileName(series_file_names[series][0])\n",
    "        file_reader.ReadImageInformation()\n",
    "        \n",
    "        print('Series_ID: ' + series)\n",
    "        print('Sequence: ' + file_reader.GetMetaData('0008|103e'))\n",
    "        print('Patient name: ' + file_reader.GetMetaData('0010|0010'))\n",
    "        \n",
    "        img = sitk.ReadImage(series_file_names[series])\n",
    "        print('Size: ' + str(img.GetSize()))\n",
    "        print('Spacing: ' + str(img.GetSpacing()))\n",
    "        \n",
    "        print(' ')\n",
    "\n",
    "else:\n",
    "    print('No DICOM series')"
   ]
  },
  {
   "cell_type": "code",
   "execution_count": null,
   "metadata": {},
   "outputs": [],
   "source": [
    "file_reader.SetFileName(series_file_names['1.3.12.2.1107.5.2.30.26129.3.2018062618270667254534358.0.0.0'][0])\n",
    "file_reader.ReadImageInformation()\n",
    "file_reader.GetMetaData('0008|103e')\n",
    "sitk.ReadImage(series_file_names['1.3.12.2.1107.5.2.30.26129.3.2018062618270667254534358.0.0.0'])"
   ]
  },
  {
   "cell_type": "code",
   "execution_count": null,
   "metadata": {},
   "outputs": [],
   "source": [
    "original_image = sitk.ReadImage(series_file_names['1.3.12.2.1107.5.2.30.26129.3.2018062618270667254534358.0.0.0'])\n",
    "print('origin: ' + str(original_image.GetOrigin()))\n",
    "print('size: ' + str(original_image.GetSize()))\n",
    "print('spacing: ' + str(original_image.GetSpacing()))\n",
    "print('direction: ' + str(original_image.GetDirection()))\n",
    "print('pixel type: ' + str(original_image.GetPixelIDTypeAsString()))\n",
    "print('number of pixel components: ' + str(original_image.GetNumberOfComponentsPerPixel()))"
   ]
  },
  {
   "cell_type": "markdown",
   "metadata": {},
   "source": [
    "# Resample an image to [1 1 1]"
   ]
  },
  {
   "cell_type": "code",
   "execution_count": null,
   "metadata": {},
   "outputs": [],
   "source": [
    "original_image = sitk.ReadImage(sitk.ImageSeriesReader_GetGDCMSeriesFileNames(data_directory,'1.3.12.2.1107.5.2.30.26129.3.2018062208295088450501241.0.0.0'))"
   ]
  },
  {
   "cell_type": "code",
   "execution_count": null,
   "metadata": {},
   "outputs": [],
   "source": [
    "image_viewer.Execute(original_image)"
   ]
  },
  {
   "cell_type": "code",
   "execution_count": null,
   "metadata": {},
   "outputs": [],
   "source": [
    "print('origin: ' + str(original_image.GetOrigin()))\n",
    "print('size: ' + str(original_image.GetSize()))\n",
    "print('spacing: ' + str(original_image.GetSpacing()))\n",
    "print('direction: ' + str(original_image.GetDirection()))\n",
    "print('pixel type: ' + str(original_image.GetPixelIDTypeAsString()))\n",
    "print('number of pixel components: ' + str(original_image.GetNumberOfComponentsPerPixel()))"
   ]
  },
  {
   "cell_type": "code",
   "execution_count": null,
   "metadata": {},
   "outputs": [],
   "source": [
    "def resample_image(image):\n",
    "    resample = sitk.ResampleImageFilter()\n",
    "    resample.SetInterpolator(sitk.sitkLinear)\n",
    "    resample.SetOutputDirection(image.GetDirection())\n",
    "    resample.SetOutputOrigin(image.GetOrigin())\n",
    "    new_spacing = [1, 1, 1]\n",
    "    resample.SetOutputSpacing(new_spacing)\n",
    "\n",
    "    orig_size = np.array(image.GetSize(), dtype=np.int)\n",
    "    #orig_spacing = original_image.GetSpacing()\n",
    "    #new_size = orig_size*(orig_spacing/new_spacing)\n",
    "    #new_size = np.ceil(new_size).astype(np.int) #  Image dimensions are in integers\n",
    "    #new_size = [int(s) for s in new_size]\n",
    "   \n",
    "    resample.SetSize ([240, 240, 155])\n",
    "    resample.SetOutputOrigin(image.GetOrigin())\n",
    "    new_image = resample.Execute(image)\n",
    "    return new_image\n"
   ]
  },
  {
   "cell_type": "code",
   "execution_count": null,
   "metadata": {},
   "outputs": [],
   "source": [
    "new_image = resample_image(original_image)\n",
    "print(new_image.GetSize())\n",
    "print(new_image.GetSpacing())"
   ]
  },
  {
   "cell_type": "code",
   "execution_count": null,
   "metadata": {},
   "outputs": [],
   "source": [
    "image_viewer.Execute(new_image)"
   ]
  },
  {
   "cell_type": "markdown",
   "metadata": {},
   "source": [
    "# Registration"
   ]
  },
  {
   "cell_type": "markdown",
   "metadata": {},
   "source": [
    "## Reading file"
   ]
  },
  {
   "cell_type": "markdown",
   "metadata": {},
   "source": [
    "Contrasted T1 (constant)"
   ]
  },
  {
   "cell_type": "code",
   "execution_count": null,
   "metadata": {},
   "outputs": [],
   "source": [
    "cont_fixed = sitk.ReadImage(series_file_names['1.3.12.2.1107.5.2.30.26129.3.2018062208394729434202541.0.0.0'],sitk.sitkFloat32)\n",
    "print('size: ' + str(cont_fixed.GetSize()))\n",
    "print('spacing: ' + str(cont_fixed.GetSpacing()))\n"
   ]
  },
  {
   "cell_type": "markdown",
   "metadata": {},
   "source": [
    "Flair register to T1"
   ]
  },
  {
   "cell_type": "code",
   "execution_count": null,
   "metadata": {},
   "outputs": [],
   "source": [
    "flair_moving = sitk.ReadImage(series_file_names['1.3.12.2.1107.5.2.30.26129.3.2018062208295088450501241.0.0.0'],sitk.sitkFloat32)\n",
    "print('size: ' + str(flair_moving.GetSize()))\n",
    "print('spacing: ' + str(flair_moving.GetSpacing()))"
   ]
  },
  {
   "cell_type": "markdown",
   "metadata": {},
   "source": [
    "## Resample and Resize to same parameters"
   ]
  },
  {
   "cell_type": "code",
   "execution_count": null,
   "metadata": {},
   "outputs": [],
   "source": [
    "cont_fixed = resample_image(cont_fixed)\n",
    "print('size: ' + str(cont_fixed.GetSize()))\n",
    "print('spacing: ' + str(cont_fixed.GetSpacing()))\n"
   ]
  },
  {
   "cell_type": "code",
   "execution_count": null,
   "metadata": {},
   "outputs": [],
   "source": [
    "flair_moving = resample_image(flair_moving)\n",
    "print('size: ' + str(flair_moving.GetSize()))\n",
    "print('spacing: ' + str(flair_moving.GetSpacing()))"
   ]
  },
  {
   "cell_type": "code",
   "execution_count": null,
   "metadata": {},
   "outputs": [],
   "source": [
    "def registering(fixed, moving):\n",
    "    R = sitk.ImageRegistrationMethod()\n",
    "    R.SetMetricAsMattesMutualInformation()\n",
    "    R.SetInitialTransform(sitk.VersorRigid3DTransform())\n",
    "    R.SetInterpolator(sitk.sitkLinear)\n",
    "    #R.SetShrinkFactorsPerLevel(3)\n",
    "    R.SetOptimizerScalesFromIndexShift()\n",
    "    \n",
    "    R.AddCommand( sitk.sitkIterationEvent, lambda: command_iteration(R) )\n",
    "\n",
    "    outTx = R.Execute(fixed, moving)\n",
    "    return outTx"
   ]
  },
  {
   "cell_type": "code",
   "execution_count": null,
   "metadata": {},
   "outputs": [],
   "source": [
    "flair_processed = registering(cont_fixed,flair_moving)"
   ]
  },
  {
   "cell_type": "code",
   "execution_count": null,
   "metadata": {},
   "outputs": [],
   "source": [
    "import copy \n",
    "fixed = (cont_fixed)\n",
    "moving = (flair_moving)\n",
    "\n",
    "R = sitk.ImageRegistrationMethod()\n",
    "\n",
    "R.SetMetricAsJointHistogramMutualInformation()\n",
    "\n",
    "R.SetOptimizerAsGradientDescentLineSearch(learningRate=1.0,\n",
    "                                          numberOfIterations=200,\n",
    "                                          convergenceMinimumValue=1e-5,\n",
    "                                          convergenceWindowSize=5)\n",
    "\n",
    "R.SetInitialTransform(sitk.TranslationTransform(fixed.GetDimension()))\n",
    "\n",
    "R.SetInterpolator(sitk.sitkLinear)\n",
    "\n",
    "R.AddCommand( sitk.sitkIterationEvent, lambda: command_iteration(R) )\n",
    "\n",
    "outTx = R.Execute(fixed, moving)"
   ]
  },
  {
   "cell_type": "code",
   "execution_count": null,
   "metadata": {},
   "outputs": [],
   "source": []
  }
 ],
 "metadata": {
  "kernelspec": {
   "display_name": "Python 3",
   "language": "python",
   "name": "python3"
  },
  "language_info": {
   "codemirror_mode": {
    "name": "ipython",
    "version": 3
   },
   "file_extension": ".py",
   "mimetype": "text/x-python",
   "name": "python",
   "nbconvert_exporter": "python",
   "pygments_lexer": "ipython3",
   "version": "3.7.4"
  }
 },
 "nbformat": 4,
 "nbformat_minor": 2
}
